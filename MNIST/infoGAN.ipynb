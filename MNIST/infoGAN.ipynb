{
 "cells": [
  {
   "cell_type": "markdown",
   "metadata": {},
   "source": [
    "# Implementation of infoGANs\n",
    "Reference: https://arxiv.org/pdf/1606.03657.pdf"
   ]
  },
  {
   "cell_type": "code",
   "execution_count": null,
   "metadata": {
    "collapsed": true
   },
   "outputs": [],
   "source": [
    "# Run the comment below only when using Google Colab\n",
    "# !pip install torch torchvision"
   ]
  },
  {
   "cell_type": "code",
   "execution_count": 1,
   "metadata": {
    "collapsed": true
   },
   "outputs": [],
   "source": [
    "import torch\n",
    "import torchvision\n",
    "import torch.nn as nn\n",
    "import torch.nn.functional as F"
   ]
  },
  {
   "cell_type": "code",
   "execution_count": 2,
   "metadata": {
    "collapsed": true
   },
   "outputs": [],
   "source": [
    "from torch.utils.data import DataLoader\n",
    "from torchvision import datasets\n",
    "from torchvision import transforms\n",
    "from torchvision.utils import save_image"
   ]
  },
  {
   "cell_type": "code",
   "execution_count": 3,
   "metadata": {
    "collapsed": true
   },
   "outputs": [],
   "source": [
    "import numpy as np\n",
    "import datetime\n",
    "import os, sys"
   ]
  },
  {
   "cell_type": "code",
   "execution_count": 4,
   "metadata": {
    "collapsed": true
   },
   "outputs": [],
   "source": [
    "from tensorboardX import SummaryWriter"
   ]
  },
  {
   "cell_type": "code",
   "execution_count": 5,
   "metadata": {
    "collapsed": true
   },
   "outputs": [],
   "source": [
    "from matplotlib.pyplot import imshow, imsave\n",
    "%matplotlib inline"
   ]
  },
  {
   "cell_type": "code",
   "execution_count": 6,
   "metadata": {
    "collapsed": true
   },
   "outputs": [],
   "source": [
    "MODEL_NAME = 'infoGAN'\n",
    "DEVICE = torch.device('cuda' if torch.cuda.is_available() else 'cpu')"
   ]
  },
  {
   "cell_type": "code",
   "execution_count": 7,
   "metadata": {
    "collapsed": true
   },
   "outputs": [],
   "source": [
    "def to_onehot(x, num_classes=10):\n",
    "    assert isinstance(x, int) or isinstance(x, (torch.LongTensor, torch.cuda.LongTensor))\n",
    "    if isinstance(x, int):\n",
    "        c = torch.zeros(1, num_classes).long()\n",
    "        c[0][x] = 1\n",
    "    else:\n",
    "        x = x.cpu()\n",
    "        c = torch.LongTensor(x.size(0), num_classes)\n",
    "        c.zero_()\n",
    "        c.scatter_(1, x, 1) # dim, index, src value\n",
    "    return c"
   ]
  },
  {
   "cell_type": "code",
   "execution_count": 8,
   "metadata": {
    "collapsed": true
   },
   "outputs": [],
   "source": [
    "def sample_noise(batch_size, n_noise, n_c_discrete, n_c_continuous, label=None, supervised=False):\n",
    "    z = torch.randn(batch_size, n_noise).to(DEVICE)\n",
    "    if supervised:\n",
    "        c_discrete = to_onehot(label).to(DEVICE) # (B,10)\n",
    "    else:\n",
    "        c_discrete = to_onehot(torch.LongTensor(batch_size, 1).random_(0, n_c_discrete)).to(DEVICE) # (B,10)\n",
    "    c_continuous = torch.zeros(batch_size, n_c_continuous).uniform_(-1, 1).to(DEVICE) # (B,2)\n",
    "    c = torch.cat((c_discrete.float(), c_continuous), 1)\n",
    "    return z, c"
   ]
  },
  {
   "cell_type": "code",
   "execution_count": 9,
   "metadata": {
    "collapsed": true
   },
   "outputs": [],
   "source": [
    "def get_sample_image():\n",
    "    \"\"\"\n",
    "        save sample 100 images\n",
    "    \"\"\"\n",
    "    images = []\n",
    "    # continuous code\n",
    "    for cc_type in range(2):\n",
    "        for num in range(10):\n",
    "            fix_z = torch.randn(1, n_noise)\n",
    "            z = fix_z.to(DEVICE)\n",
    "            cc = -1\n",
    "            for i in range(10):\n",
    "                cc += 0.2\n",
    "                c_discrete = to_onehot(num).to(DEVICE) # (B,10)\n",
    "                c_continuous = torch.zeros(1, n_c_continuous).to(DEVICE)\n",
    "                c_continuous.data[:,cc_type].add_(cc)\n",
    "                c = torch.cat((c_discrete.float(), c_continuous), 1)\n",
    "                y_hat = G(z, c)\n",
    "                line_img = torch.cat((line_img, y_hat.view(28, 28)), dim=1) if i > 0 else y_hat.view(28, 28)\n",
    "            all_img = torch.cat((all_img, line_img), dim=0) if num > 0 else line_img\n",
    "        img = all_img.cpu().data.numpy()\n",
    "        images.append(img)\n",
    "    # discrete code\n",
    "    for num in range(10):\n",
    "        c_discrete = to_onehot(num).to(DEVICE) # (B,10)\n",
    "        for i in range(10):\n",
    "            z = torch.randn(1, n_noise).to(DEVICE)\n",
    "            c_continuous = torch.zeros(1, n_c_continuous).to(DEVICE)\n",
    "            c = torch.cat((c_discrete.float(), c_continuous), 1)\n",
    "            y_hat = G(z, c)\n",
    "            line_img = torch.cat((line_img, y_hat.view(28, 28)), dim=1) if i > 0 else y_hat.view(28, 28)\n",
    "        all_img = torch.cat((all_img, line_img), dim=0) if num > 0 else line_img\n",
    "    img = all_img.cpu().data.numpy()\n",
    "    images.append(img)\n",
    "    return images[0], images[1], images[2]"
   ]
  },
  {
   "cell_type": "code",
   "execution_count": 10,
   "metadata": {
    "collapsed": true
   },
   "outputs": [],
   "source": [
    "def log_gaussian(c, mu, var):\n",
    "    \"\"\"\n",
    "        criterion for Q(condition classifier)\n",
    "    \"\"\"\n",
    "    return -((c - mu)**2)/(2*var+1e-8) - 0.5*torch.log(2*np.pi*var+1e-8)"
   ]
  },
  {
   "cell_type": "code",
   "execution_count": 11,
   "metadata": {
    "collapsed": true
   },
   "outputs": [],
   "source": [
    "class Discriminator(nn.Module):\n",
    "    \"\"\"\n",
    "        Convolutional Discriminator for MNIST\n",
    "    \"\"\"\n",
    "    def __init__(self, in_channel=1):\n",
    "        super(Discriminator, self).__init__()\n",
    "        self.layer1 = nn.Sequential(# 28 -> 14\n",
    "            nn.Conv2d(in_channel, 64, 3, stride=2, padding=1, bias=False),\n",
    "            nn.BatchNorm2d(64),\n",
    "            nn.LeakyReLU(0.1),\n",
    "        )\n",
    "        self.layer2 = nn.Sequential(# 14 -> 7\n",
    "            nn.Conv2d(64, 128, 3, stride=2, padding=1, bias=False),\n",
    "            nn.BatchNorm2d(128),\n",
    "            nn.LeakyReLU(0.1),\n",
    "        )\n",
    "        self.layer3 = nn.Sequential(#\n",
    "            nn.Linear(128*7*7, 1024),\n",
    "            nn.BatchNorm1d(1024),\n",
    "            nn.LeakyReLU(0.1),\n",
    "        )\n",
    "        self.fc = nn.Sequential(\n",
    "            nn.Linear(1024, 1),\n",
    "            nn.Sigmoid(),\n",
    "        )\n",
    "    \n",
    "    def forward(self, x):\n",
    "        y_ = self.layer1(x)\n",
    "        y_ = self.layer2(y_)\n",
    "        y_ = y_.view(y_.size(0), -1)\n",
    "        y_ = self.layer3(y_)\n",
    "        d = self.fc(y_) # Real / Fake        \n",
    "        return d, y_ # return with top layer features for Q"
   ]
  },
  {
   "cell_type": "code",
   "execution_count": 12,
   "metadata": {
    "collapsed": true
   },
   "outputs": [],
   "source": [
    "class Qrator(nn.Module):\n",
    "    \"\"\"\n",
    "        Regularization Network for increasing Mutual Information\n",
    "    \"\"\"\n",
    "    def __init__(self):\n",
    "        super(Qrator, self).__init__()\n",
    "        self.fc = nn.Sequential(\n",
    "            nn.Linear(1024, 128),\n",
    "            nn.BatchNorm1d(128),\n",
    "            nn.LeakyReLU(0.1),\n",
    "            nn.Linear(128, 14),\n",
    "        )\n",
    "        \n",
    "    def forward(self, x):\n",
    "        # Seperate code\n",
    "        c = self.fc(x)\n",
    "        c_discrete = torch.softmax(c[:, :10], dim=-1) # Digit Label {0~9}\n",
    "        c_mu = c[:, 10:12] # mu & var of Rotation & Thickness\n",
    "        c_var = c[:, 12:14].exp() # mu & var of Rotation & Thickness\n",
    "        return c_discrete, c_mu, c_var"
   ]
  },
  {
   "cell_type": "code",
   "execution_count": 13,
   "metadata": {
    "collapsed": true
   },
   "outputs": [],
   "source": [
    "class Generator(nn.Module):\n",
    "    \"\"\"\n",
    "        Convolutional Generator for MNIST\n",
    "    \"\"\"\n",
    "    def __init__(self, input_size=62, code_size=12, num_classes=784):\n",
    "        super(Generator, self).__init__()\n",
    "        self.layer1 = nn.Sequential(\n",
    "            nn.Linear(input_size+code_size, 1024),\n",
    "            nn.BatchNorm1d(1024),\n",
    "            nn.ReLU(),\n",
    "        )\n",
    "        self.layer2 = nn.Sequential(\n",
    "            nn.Linear(1024, 7*7*128),\n",
    "            nn.BatchNorm1d(7*7*128),\n",
    "            nn.ReLU(),\n",
    "        )\n",
    "        self.layer3 = nn.Sequential(# input: 7 by 7, output: 14 by 14\n",
    "            nn.ConvTranspose2d(128, 64, 4, stride=2, padding=1, bias=False),\n",
    "            nn.BatchNorm2d(64),\n",
    "            nn.ReLU(),\n",
    "        )\n",
    "        self.layer4 = nn.Sequential(# input: 14 by 14, output: 28 by 28\n",
    "            nn.ConvTranspose2d(64, 1, 4, stride=2, padding=1, bias=False),\n",
    "            nn.Tanh(),\n",
    "        )\n",
    "        \n",
    "    def forward(self, z, c):\n",
    "        z = z.view(z.size(0), -1)\n",
    "        c = c.view(c.size(0), -1)\n",
    "        noise = torch.cat((z, c), 1)\n",
    "#         print(noise.size())\n",
    "        x_ = self.layer1(noise)\n",
    "        x_ = self.layer2(x_)\n",
    "        x_ = x_.view(x_.size(0), 128, 7, 7)\n",
    "        x_ = self.layer3(x_)\n",
    "        x_ = self.layer4(x_)\n",
    "        return x_"
   ]
  },
  {
   "cell_type": "code",
   "execution_count": 14,
   "metadata": {
    "collapsed": true
   },
   "outputs": [],
   "source": [
    "D = Discriminator().to(DEVICE)\n",
    "G = Generator().to(DEVICE)\n",
    "Q = Qrator().to(DEVICE)\n",
    "# D.load_state_dict('D_dc.pkl')\n",
    "# G.load_state_dict('G_dc.pkl')"
   ]
  },
  {
   "cell_type": "code",
   "execution_count": 15,
   "metadata": {
    "collapsed": true
   },
   "outputs": [],
   "source": [
    "transform = transforms.Compose([transforms.ToTensor(),\n",
    "                                transforms.Normalize(mean=[0.5],\n",
    "                                std=[0.5])]\n",
    ")"
   ]
  },
  {
   "cell_type": "code",
   "execution_count": 16,
   "metadata": {
    "collapsed": true
   },
   "outputs": [],
   "source": [
    "mnist = datasets.MNIST(root='../data/', train=True, transform=transform, download=True)"
   ]
  },
  {
   "cell_type": "code",
   "execution_count": 17,
   "metadata": {
    "collapsed": true
   },
   "outputs": [],
   "source": [
    "batch_size = 128"
   ]
  },
  {
   "cell_type": "code",
   "execution_count": 18,
   "metadata": {
    "collapsed": true
   },
   "outputs": [],
   "source": [
    "data_loader = DataLoader(dataset=mnist, batch_size=batch_size, shuffle=True, drop_last=True, pin_memory=True)"
   ]
  },
  {
   "cell_type": "code",
   "execution_count": 19,
   "metadata": {
    "collapsed": true
   },
   "outputs": [],
   "source": [
    "bce_loss = nn.BCELoss()\n",
    "ce_loss = nn.CrossEntropyLoss()\n",
    "\n",
    "D_opt = torch.optim.Adam(D.parameters(), lr=2e-4, betas=(0.5, 0.99))\n",
    "G_opt = torch.optim.Adam([{'params':G.parameters()}, {'params':Q.parameters()}], lr=1e-3, betas=(0.5, 0.99))"
   ]
  },
  {
   "cell_type": "code",
   "execution_count": 20,
   "metadata": {
    "collapsed": true
   },
   "outputs": [],
   "source": [
    "max_epoch = 50 # need more than 200 epochs for training generator\n",
    "step = 0\n",
    "n_critic = 1 # for training more k steps about Discriminator\n",
    "n_noise = 62\n",
    "n_c_discrete, n_c_continuous = 10, 2\n",
    "\n",
    "D_labels = torch.ones([batch_size, 1]).to(DEVICE) # Discriminator Label to real\n",
    "D_fakes = torch.zeros([batch_size, 1]).to(DEVICE) # Discriminator Label to fake"
   ]
  },
  {
   "cell_type": "code",
   "execution_count": 21,
   "metadata": {
    "collapsed": true
   },
   "outputs": [],
   "source": [
    "writer = SummaryWriter()"
   ]
  },
  {
   "cell_type": "code",
   "execution_count": 23,
   "metadata": {
    "scrolled": true
   },
   "outputs": [
    {
     "name": "stdout",
     "output_type": "stream",
     "text": [
      "Epoch: 1/50, Step: 1000, D Loss: 0.06298446655273438, G Loss: 3.160252571105957, GnQ Loss: 4.77636194229126, Time: 2018-12-30 23:09:35\n",
      "Epoch: 2/50, Step: 1500, D Loss: 0.04377274215221405, G Loss: 4.579306602478027, GnQ Loss: 6.271612644195557, Time: 2018-12-30 23:10:03\n",
      "Epoch: 3/50, Step: 2000, D Loss: 0.3206389546394348, G Loss: 3.093998908996582, GnQ Loss: 4.614413738250732, Time: 2018-12-30 23:10:30\n",
      "Epoch: 4/50, Step: 2500, D Loss: 0.029062770307064056, G Loss: 5.295099258422852, GnQ Loss: 6.739851951599121, Time: 2018-12-30 23:10:59\n",
      "Epoch: 5/50, Step: 3000, D Loss: 0.02925865910947323, G Loss: 6.070171356201172, GnQ Loss: 7.490633964538574, Time: 2018-12-30 23:11:28\n",
      "Epoch: 6/50, Step: 3500, D Loss: 0.004611633252352476, G Loss: 5.727474212646484, GnQ Loss: 7.059477806091309, Time: 2018-12-30 23:11:56\n",
      "Epoch: 7/50, Step: 4000, D Loss: 0.010235895402729511, G Loss: 6.594085693359375, GnQ Loss: 8.046361923217773, Time: 2018-12-30 23:12:23\n",
      "Epoch: 8/50, Step: 4500, D Loss: 0.004614119417965412, G Loss: 8.070649147033691, GnQ Loss: 9.474993705749512, Time: 2018-12-30 23:12:51\n",
      "Epoch: 9/50, Step: 5000, D Loss: 0.007598033174872398, G Loss: 7.66144323348999, GnQ Loss: 9.21728515625, Time: 2018-12-30 23:13:19\n",
      "Epoch: 10/50, Step: 5500, D Loss: 0.004026147071272135, G Loss: 8.109292984008789, GnQ Loss: 9.50838851928711, Time: 2018-12-30 23:13:47\n",
      "Epoch: 11/50, Step: 6000, D Loss: 0.004945230670273304, G Loss: 9.941895484924316, GnQ Loss: 11.371874809265137, Time: 2018-12-30 23:14:15\n",
      "Epoch: 12/50, Step: 6500, D Loss: 0.009342798963189125, G Loss: 9.545965194702148, GnQ Loss: 11.11754035949707, Time: 2018-12-30 23:14:43\n",
      "Epoch: 13/50, Step: 7000, D Loss: 0.004483629949390888, G Loss: 8.0703125, GnQ Loss: 9.486629486083984, Time: 2018-12-30 23:15:10\n",
      "Epoch: 14/50, Step: 7500, D Loss: 0.02457614801824093, G Loss: 8.052715301513672, GnQ Loss: 9.608060836791992, Time: 2018-12-30 23:15:38\n",
      "Epoch: 16/50, Step: 8000, D Loss: 0.002442500786855817, G Loss: 9.777528762817383, GnQ Loss: 11.29565715789795, Time: 2018-12-30 23:16:06\n",
      "Epoch: 17/50, Step: 8500, D Loss: 0.009744455106556416, G Loss: 12.0247802734375, GnQ Loss: 13.590368270874023, Time: 2018-12-30 23:16:33\n",
      "Epoch: 18/50, Step: 9000, D Loss: 0.03664862737059593, G Loss: 8.721014022827148, GnQ Loss: 10.220942497253418, Time: 2018-12-30 23:17:01\n",
      "Epoch: 19/50, Step: 9500, D Loss: 0.035489726811647415, G Loss: 6.899810791015625, GnQ Loss: 8.30900764465332, Time: 2018-12-30 23:17:28\n",
      "Epoch: 20/50, Step: 10000, D Loss: 0.12751708924770355, G Loss: 7.257050514221191, GnQ Loss: 8.649088859558105, Time: 2018-12-30 23:17:56\n",
      "Epoch: 21/50, Step: 10500, D Loss: 0.009622413665056229, G Loss: 5.329919338226318, GnQ Loss: 6.74776554107666, Time: 2018-12-30 23:18:23\n",
      "Epoch: 22/50, Step: 11000, D Loss: 0.328407883644104, G Loss: 2.6937928199768066, GnQ Loss: 4.206907272338867, Time: 2018-12-30 23:18:51\n",
      "Epoch: 23/50, Step: 11500, D Loss: 0.5402380228042603, G Loss: 2.593252420425415, GnQ Loss: 4.099980354309082, Time: 2018-12-30 23:19:19\n",
      "Epoch: 24/50, Step: 12000, D Loss: 0.585486650466919, G Loss: 2.0331742763519287, GnQ Loss: 3.527742385864258, Time: 2018-12-30 23:19:46\n",
      "Epoch: 25/50, Step: 12500, D Loss: 0.5703316330909729, G Loss: 2.7280120849609375, GnQ Loss: 4.194521427154541, Time: 2018-12-30 23:20:14\n",
      "Epoch: 26/50, Step: 13000, D Loss: 0.6117827296257019, G Loss: 1.6383980512619019, GnQ Loss: 3.0625085830688477, Time: 2018-12-30 23:20:41\n",
      "Epoch: 27/50, Step: 13500, D Loss: 0.6882616281509399, G Loss: 1.9743623733520508, GnQ Loss: 3.434370279312134, Time: 2018-12-30 23:21:09\n",
      "Epoch: 28/50, Step: 14000, D Loss: 0.6264362335205078, G Loss: 1.9127581119537354, GnQ Loss: 3.3175299167633057, Time: 2018-12-30 23:21:36\n",
      "Epoch: 29/50, Step: 14500, D Loss: 0.6363024711608887, G Loss: 2.1040871143341064, GnQ Loss: 3.527904510498047, Time: 2018-12-30 23:22:04\n",
      "Epoch: 30/50, Step: 15000, D Loss: 0.5199268460273743, G Loss: 2.4174697399139404, GnQ Loss: 3.8246803283691406, Time: 2018-12-30 23:22:31\n",
      "Epoch: 32/50, Step: 15500, D Loss: 0.48892223834991455, G Loss: 1.946246862411499, GnQ Loss: 3.336038827896118, Time: 2018-12-30 23:22:59\n",
      "Epoch: 33/50, Step: 16000, D Loss: 0.4474170506000519, G Loss: 2.5273423194885254, GnQ Loss: 3.933720350265503, Time: 2018-12-30 23:23:26\n",
      "Epoch: 34/50, Step: 16500, D Loss: 0.608963131904602, G Loss: 1.8230952024459839, GnQ Loss: 3.226632595062256, Time: 2018-12-30 23:23:54\n",
      "Epoch: 35/50, Step: 17000, D Loss: 0.49063926935195923, G Loss: 2.2843916416168213, GnQ Loss: 3.6945436000823975, Time: 2018-12-30 23:24:22\n",
      "Epoch: 36/50, Step: 17500, D Loss: 0.45531633496284485, G Loss: 2.045042037963867, GnQ Loss: 3.443286180496216, Time: 2018-12-30 23:24:49\n",
      "Epoch: 37/50, Step: 18000, D Loss: 0.45250242948532104, G Loss: 2.4507312774658203, GnQ Loss: 3.8636646270751953, Time: 2018-12-30 23:25:17\n",
      "Epoch: 38/50, Step: 18500, D Loss: 0.6623250246047974, G Loss: 2.85317325592041, GnQ Loss: 4.234736919403076, Time: 2018-12-30 23:25:45\n",
      "Epoch: 39/50, Step: 19000, D Loss: 0.3974487781524658, G Loss: 2.5269455909729004, GnQ Loss: 3.9452128410339355, Time: 2018-12-30 23:26:12\n",
      "Epoch: 40/50, Step: 19500, D Loss: 0.4188886880874634, G Loss: 2.5369231700897217, GnQ Loss: 3.9580368995666504, Time: 2018-12-30 23:26:40\n",
      "Epoch: 41/50, Step: 20000, D Loss: 0.3407994210720062, G Loss: 3.624119520187378, GnQ Loss: 5.029040336608887, Time: 2018-12-30 23:27:07\n",
      "Epoch: 42/50, Step: 20500, D Loss: 0.5272151231765747, G Loss: 4.206740856170654, GnQ Loss: 5.593206405639648, Time: 2018-12-30 23:27:35\n",
      "Epoch: 43/50, Step: 21000, D Loss: 0.27013951539993286, G Loss: 3.627254009246826, GnQ Loss: 5.044341087341309, Time: 2018-12-30 23:28:03\n",
      "Epoch: 44/50, Step: 21500, D Loss: 0.5072160959243774, G Loss: 3.70280385017395, GnQ Loss: 5.1103010177612305, Time: 2018-12-30 23:28:30\n",
      "Epoch: 45/50, Step: 22000, D Loss: 0.2912077307701111, G Loss: 3.9208292961120605, GnQ Loss: 5.3316521644592285, Time: 2018-12-30 23:28:58\n",
      "Epoch: 47/50, Step: 22500, D Loss: 0.487556517124176, G Loss: 4.883304595947266, GnQ Loss: 6.296946048736572, Time: 2018-12-30 23:29:25\n",
      "Epoch: 48/50, Step: 23000, D Loss: 0.20651042461395264, G Loss: 2.4411635398864746, GnQ Loss: 3.849189043045044, Time: 2018-12-30 23:29:53\n",
      "Epoch: 49/50, Step: 23500, D Loss: 0.19101279973983765, G Loss: 3.9111595153808594, GnQ Loss: 5.332242965698242, Time: 2018-12-30 23:30:21\n",
      "Epoch: 50/50, Step: 24000, D Loss: 0.21037821471691132, G Loss: 2.5540060997009277, GnQ Loss: 3.9724082946777344, Time: 2018-12-30 23:30:48\n"
     ]
    }
   ],
   "source": [
    "for epoch in range(max_epoch+1):\n",
    "    for idx, (images, labels) in enumerate(data_loader):\n",
    "        step += 1\n",
    "        labels = labels.view(batch_size, 1)\n",
    "        # Training Discriminator\n",
    "        x = images.to(DEVICE)\n",
    "        x_outputs, _, = D(x)\n",
    "        D_x_loss = bce_loss(x_outputs, D_labels)\n",
    "\n",
    "        z, c = sample_noise(batch_size, n_noise, n_c_discrete, n_c_continuous, label=labels, supervised=True)\n",
    "        z_outputs, _, = D(G(z, c))\n",
    "        D_z_loss = bce_loss(z_outputs, D_fakes)\n",
    "        D_loss = D_x_loss + D_z_loss\n",
    "        \n",
    "        D_opt.zero_grad()\n",
    "        D_loss.backward()\n",
    "        D_opt.step()\n",
    "\n",
    "        # Training Generator\n",
    "        z, c = sample_noise(batch_size, n_noise, n_c_discrete, n_c_continuous, label=labels, supervised=True)\n",
    "        c_discrete_label = torch.max(c[:, :-2], 1)[1].view(-1, 1)\n",
    "\n",
    "        z_outputs, features = D(G(z, c)) # (B,1), (B,10), (B,4)\n",
    "        c_discrete_out, cc_mu, cc_var = Q(features)\n",
    "\n",
    "        G_loss = bce_loss(z_outputs, D_labels)\n",
    "        Q_loss_discrete = ce_loss(c_discrete_out, c_discrete_label.view(-1))\n",
    "        Q_loss_continuous = -torch.mean(torch.sum(log_gaussian(c[:, -2:], cc_mu, cc_var), 1)) # N(x | mu,var) -> (B, 2) -> (,1)\n",
    "        mutual_info_loss = Q_loss_discrete + Q_loss_continuous*0.1\n",
    "\n",
    "        GnQ_loss = G_loss + mutual_info_loss\n",
    "\n",
    "        G_opt.zero_grad()\n",
    "        GnQ_loss.backward()\n",
    "        G_opt.step()\n",
    "\n",
    "        if step > 500 and step % 100 == 0:\n",
    "            writer.add_scalar('loss/total', GnQ_loss, step)\n",
    "            writer.add_scalar('loss/Q_discrete', Q_loss_discrete, step)\n",
    "            writer.add_scalar('loss/Q_continuous', Q_loss_continuous, step)\n",
    "            writer.add_scalar('loss/Q', mutual_info_loss, step)\n",
    "            writer.add_histogram('output/mu', cc_mu)\n",
    "            writer.add_histogram('output/var', cc_var)\n",
    "        \n",
    "        if step % 500 == 0:\n",
    "            print('Epoch: {}/{}, Step: {}, D Loss: {}, G Loss: {}, GnQ Loss: {}, Time: {}'\\\n",
    "                  .format(epoch, max_epoch, step, D_loss.item(), G_loss.item(), GnQ_loss.item(), str(datetime.datetime.today())[:-7]))\n",
    "            \n",
    "        if step % 1000 == 0:\n",
    "            G.eval()\n",
    "            img1, img2, img3 = get_sample_image()\n",
    "            imsave('samples/{}_step{}_type1.jpg'.format(MODEL_NAME, str(step).zfill(3)), img1, cmap='gray')\n",
    "            imsave('samples/{}_step{}_type2.jpg'.format(MODEL_NAME, str(step).zfill(3)), img2, cmap='gray')\n",
    "            imsave('samples/{}_step{}_type3.jpg'.format(MODEL_NAME, str(step).zfill(3)), img3, cmap='gray')\n",
    "            G.train()\n",
    "writer.export_scalars_to_json(\"./all_summary.json\")\n",
    "writer.close()"
   ]
  },
  {
   "cell_type": "code",
   "execution_count": null,
   "metadata": {
    "collapsed": true
   },
   "outputs": [],
   "source": []
  },
  {
   "cell_type": "markdown",
   "metadata": {},
   "source": [
    "# Sample"
   ]
  },
  {
   "cell_type": "code",
   "execution_count": 24,
   "metadata": {
    "scrolled": true
   },
   "outputs": [
    {
     "data": {
      "text/plain": [
       "<matplotlib.image.AxesImage at 0x2340211fbe0>"
      ]
     },
     "execution_count": 24,
     "metadata": {},
     "output_type": "execute_result"
    },
    {
     "data": {
      "image/png": "[encoded data removed]",
      "text/plain": [
       "<matplotlib.figure.Figure at 0x234269ac320>"
      ]
     },
     "metadata": {},
     "output_type": "display_data"
    }
   ],
   "source": [
    "# generation to image\n",
    "G.eval()\n",
    "imshow(get_sample_image()[0], cmap='gray')"
   ]
  },
  {
   "cell_type": "code",
   "execution_count": 25,
   "metadata": {},
   "outputs": [
    {
     "data": {
      "text/plain": [
       "<matplotlib.image.AxesImage at 0x2342b7f5048>"
      ]
     },
     "execution_count": 25,
     "metadata": {},
     "output_type": "execute_result"
    },
    {
     "data": {
      "image/png": "[encoded data removed]",
      "text/plain": [
       "<matplotlib.figure.Figure at 0x23429f37dd8>"
      ]
     },
     "metadata": {},
     "output_type": "display_data"
    }
   ],
   "source": [
    "imshow(get_sample_image()[1], cmap='gray')"
   ]
  },
  {
   "cell_type": "code",
   "execution_count": null,
   "metadata": {
    "collapsed": true
   },
   "outputs": [],
   "source": []
  },
  {
   "cell_type": "code",
   "execution_count": null,
   "metadata": {
    "collapsed": true
   },
   "outputs": [],
   "source": []
  },
  {
   "cell_type": "code",
   "execution_count": 81,
   "metadata": {
    "collapsed": true
   },
   "outputs": [],
   "source": [
    "def save_checkpoint(state, file_name='checkpoint.pth.tar'):\n",
    "    torch.save(state, file_name)"
   ]
  },
  {
   "cell_type": "code",
   "execution_count": 82,
   "metadata": {
    "collapsed": true
   },
   "outputs": [],
   "source": [
    "# Saving params.\n",
    "# torch.save(D.state_dict(), 'D_c.pkl')\n",
    "# torch.save(G.state_dict(), 'G_c.pkl')\n",
    "save_checkpoint({'epoch': epoch + 1, 'state_dict':DnQ.state_dict(), 'optimizer' : DnQ_opt.state_dict()}, 'DnQ_info.pth.tar')\n",
    "save_checkpoint({'epoch': epoch + 1, 'state_dict':G.state_dict(), 'optimizer' : G_opt.state_dict()}, 'G_info.pth.tar')"
   ]
  }
 ],
 "metadata": {
  "kernelspec": {
   "display_name": "Python 3",
   "language": "python",
   "name": "python3"
  },
  "language_info": {
   "codemirror_mode": {
    "name": "ipython",
    "version": 3
   },
   "file_extension": ".py",
   "mimetype": "text/x-python",
   "name": "python",
   "nbconvert_exporter": "python",
   "pygments_lexer": "ipython3",
   "version": "3.6.3"
  }
 },
 "nbformat": 4,
 "nbformat_minor": 2
}
