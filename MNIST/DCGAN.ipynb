{
 "cells": [
  {
   "cell_type": "markdown",
   "metadata": {},
   "source": [
    "# Implementation of Deep Convolutional GANs\n",
    "Reference: https://arxiv.org/pdf/1511.06434.pdf"
   ]
  },
  {
   "cell_type": "code",
   "execution_count": null,
   "metadata": {
    "collapsed": true
   },
   "outputs": [],
   "source": [
    "# Run the comment below only when using Google Colab\n",
    "# !pip install torch torchvision"
   ]
  },
  {
   "cell_type": "code",
   "execution_count": 1,
   "metadata": {
    "collapsed": true
   },
   "outputs": [],
   "source": [
    "import torch\n",
    "import torchvision\n",
    "import torch.nn as nn\n",
    "import torch.nn.functional as F"
   ]
  },
  {
   "cell_type": "code",
   "execution_count": 2,
   "metadata": {
    "collapsed": true
   },
   "outputs": [],
   "source": [
    "from torch.utils.data import DataLoader\n",
    "from torchvision import datasets\n",
    "from torchvision import transforms\n",
    "from torchvision.utils import save_image"
   ]
  },
  {
   "cell_type": "code",
   "execution_count": 3,
   "metadata": {
    "collapsed": true
   },
   "outputs": [],
   "source": [
    "import numpy as np\n",
    "import datetime\n",
    "import os, sys"
   ]
  },
  {
   "cell_type": "code",
   "execution_count": 4,
   "metadata": {
    "collapsed": true
   },
   "outputs": [],
   "source": [
    "from matplotlib.pyplot import imshow, imsave\n",
    "%matplotlib inline"
   ]
  },
  {
   "cell_type": "code",
   "execution_count": 5,
   "metadata": {
    "collapsed": true
   },
   "outputs": [],
   "source": [
    "MODEL_NAME = 'DCGAN'\n",
    "DEVICE = torch.device(\"cuda:0\" if torch.cuda.is_available() else \"cpu\")"
   ]
  },
  {
   "cell_type": "code",
   "execution_count": 6,
   "metadata": {
    "collapsed": true
   },
   "outputs": [],
   "source": [
    "def get_sample_image(G, n_noise):\n",
    "    \"\"\"\n",
    "        save sample 100 images\n",
    "    \"\"\"\n",
    "    z = torch.randn(100, n_noise).to(DEVICE)\n",
    "    y_hat = G(z).view(100, 28, 28) # (100, 28, 28)\n",
    "    result = y_hat.cpu().data.numpy()\n",
    "    img = np.zeros([280, 280])\n",
    "    for j in range(10):\n",
    "        img[j*28:(j+1)*28] = np.concatenate([x for x in result[j*10:(j+1)*10]], axis=-1)\n",
    "    return img"
   ]
  },
  {
   "cell_type": "code",
   "execution_count": 7,
   "metadata": {
    "collapsed": true
   },
   "outputs": [],
   "source": [
    "class Discriminator(nn.Module):\n",
    "    \"\"\"\n",
    "        Convolutional Discriminator for MNIST\n",
    "    \"\"\"\n",
    "    def __init__(self, in_channel=1, num_classes=1):\n",
    "        super(Discriminator, self).__init__()\n",
    "        self.conv = nn.Sequential(\n",
    "            # 28 -> 14\n",
    "            nn.Conv2d(in_channel, 512, 3, stride=2, padding=1, bias=False),\n",
    "            nn.BatchNorm2d(512),\n",
    "            nn.LeakyReLU(0.2),\n",
    "            # 14 -> 7\n",
    "            nn.Conv2d(512, 256, 3, stride=2, padding=1, bias=False),\n",
    "            nn.BatchNorm2d(256),\n",
    "            nn.LeakyReLU(0.2),\n",
    "            # 7 -> 4\n",
    "            nn.Conv2d(256, 128, 3, stride=2, padding=1, bias=False),\n",
    "            nn.BatchNorm2d(128),\n",
    "            nn.LeakyReLU(0.2),\n",
    "            nn.AvgPool2d(4),\n",
    "        )\n",
    "        self.fc = nn.Sequential(\n",
    "            # reshape input, 128 -> 1\n",
    "            nn.Linear(128, 1),\n",
    "            nn.Sigmoid(),\n",
    "        )\n",
    "    \n",
    "    def forward(self, x, y=None):\n",
    "        y_ = self.conv(x)\n",
    "        y_ = y_.view(y_.size(0), -1)\n",
    "        y_ = self.fc(y_)\n",
    "        return y_"
   ]
  },
  {
   "cell_type": "code",
   "execution_count": 8,
   "metadata": {
    "collapsed": true
   },
   "outputs": [],
   "source": [
    "class Generator(nn.Module):\n",
    "    \"\"\"\n",
    "        Convolutional Generator for MNIST\n",
    "    \"\"\"\n",
    "    def __init__(self, input_size=100, num_classes=784):\n",
    "        super(Generator, self).__init__()\n",
    "        self.fc = nn.Sequential(\n",
    "            nn.Linear(input_size, 4*4*512),\n",
    "            nn.ReLU(),\n",
    "        )\n",
    "        self.conv = nn.Sequential(\n",
    "            # input: 4 by 4, output: 7 by 7\n",
    "            nn.ConvTranspose2d(512, 256, 3, stride=2, padding=1, bias=False),\n",
    "            nn.BatchNorm2d(256),\n",
    "            nn.ReLU(),\n",
    "            # input: 7 by 7, output: 14 by 14\n",
    "            nn.ConvTranspose2d(256, 128, 4, stride=2, padding=1, bias=False),\n",
    "            nn.BatchNorm2d(128),\n",
    "            nn.ReLU(),\n",
    "            # input: 14 by 14, output: 28 by 28\n",
    "            nn.ConvTranspose2d(128, 1, 4, stride=2, padding=1, bias=False),\n",
    "            nn.Tanh(),\n",
    "        )\n",
    "        \n",
    "    def forward(self, x, y=None):\n",
    "        x = x.view(x.size(0), -1)\n",
    "        y_ = self.fc(x)\n",
    "        y_ = y_.view(y_.size(0), 512, 4, 4)\n",
    "        y_ = self.conv(y_)\n",
    "        return y_"
   ]
  },
  {
   "cell_type": "code",
   "execution_count": 9,
   "metadata": {
    "collapsed": true
   },
   "outputs": [],
   "source": [
    "D = Discriminator().to(DEVICE)\n",
    "G = Generator().to(DEVICE)\n",
    "# D.load_state_dict('D_dc.pkl')\n",
    "# G.load_state_dict('G_dc.pkl')"
   ]
  },
  {
   "cell_type": "code",
   "execution_count": 10,
   "metadata": {
    "collapsed": true
   },
   "outputs": [],
   "source": [
    "transform = transforms.Compose([transforms.ToTensor(),\n",
    "                                transforms.Normalize(mean=[0.5],\n",
    "                                std=[0.5])]\n",
    ")"
   ]
  },
  {
   "cell_type": "code",
   "execution_count": 11,
   "metadata": {
    "collapsed": true
   },
   "outputs": [],
   "source": [
    "mnist = datasets.MNIST(root='../data/', train=True, transform=transform, download=True)"
   ]
  },
  {
   "cell_type": "code",
   "execution_count": 12,
   "metadata": {
    "collapsed": true
   },
   "outputs": [],
   "source": [
    "batch_size = 64"
   ]
  },
  {
   "cell_type": "code",
   "execution_count": 13,
   "metadata": {
    "collapsed": true
   },
   "outputs": [],
   "source": [
    "data_loader = DataLoader(dataset=mnist, batch_size=batch_size, shuffle=True, drop_last=True)"
   ]
  },
  {
   "cell_type": "code",
   "execution_count": 14,
   "metadata": {
    "collapsed": true
   },
   "outputs": [],
   "source": [
    "criterion = nn.BCELoss()\n",
    "D_opt = torch.optim.Adam(D.parameters(), lr=0.001, betas=(0.5, 0.999))\n",
    "G_opt = torch.optim.Adam(G.parameters(), lr=0.001, betas=(0.5, 0.999))"
   ]
  },
  {
   "cell_type": "code",
   "execution_count": 15,
   "metadata": {
    "collapsed": true
   },
   "outputs": [],
   "source": [
    "max_epoch = 30 # need more than 20 epochs for training generator\n",
    "step = 0\n",
    "n_critic = 1 # for training more k steps about Discriminator\n",
    "n_noise = 100"
   ]
  },
  {
   "cell_type": "code",
   "execution_count": 16,
   "metadata": {
    "collapsed": true
   },
   "outputs": [],
   "source": [
    "D_labels = torch.ones([batch_size, 1]).to(DEVICE) # Discriminator Label to real\n",
    "D_fakes = torch.zeros([batch_size, 1]).to(DEVICE) # Discriminator Label to fake"
   ]
  },
  {
   "cell_type": "code",
   "execution_count": 17,
   "metadata": {
    "scrolled": true
   },
   "outputs": [
    {
     "name": "stdout",
     "output_type": "stream",
     "text": [
      "Epoch: 0/30, Step: 0, D Loss: 1.3901150226593018, G Loss: 0.645667552947998\n",
      "Epoch: 0/30, Step: 500, D Loss: 0.8841016292572021, G Loss: 1.032528042793274\n",
      "Epoch: 1/30, Step: 1000, D Loss: 0.3341742157936096, G Loss: 1.929326057434082\n",
      "Epoch: 1/30, Step: 1500, D Loss: 0.502487063407898, G Loss: 1.8487944602966309\n",
      "Epoch: 2/30, Step: 2000, D Loss: 0.5597702860832214, G Loss: 1.8412060737609863\n",
      "Epoch: 2/30, Step: 2500, D Loss: 0.4319043457508087, G Loss: 1.2376809120178223\n",
      "Epoch: 3/30, Step: 3000, D Loss: 0.5119948387145996, G Loss: 1.7091478109359741\n",
      "Epoch: 3/30, Step: 3500, D Loss: 0.4834495186805725, G Loss: 2.1602656841278076\n",
      "Epoch: 4/30, Step: 4000, D Loss: 0.3906676769256592, G Loss: 2.2380075454711914\n",
      "Epoch: 4/30, Step: 4500, D Loss: 0.57613605260849, G Loss: 1.8952455520629883\n",
      "Epoch: 5/30, Step: 5000, D Loss: 0.37664082646369934, G Loss: 2.319974660873413\n",
      "Epoch: 5/30, Step: 5500, D Loss: 0.46279168128967285, G Loss: 2.153512954711914\n",
      "Epoch: 6/30, Step: 6000, D Loss: 0.4129234254360199, G Loss: 2.554079055786133\n",
      "Epoch: 6/30, Step: 6500, D Loss: 0.33443957567214966, G Loss: 2.8593034744262695\n",
      "Epoch: 7/30, Step: 7000, D Loss: 0.3468945324420929, G Loss: 2.6473114490509033\n",
      "Epoch: 8/30, Step: 7500, D Loss: 0.40650618076324463, G Loss: 1.9287309646606445\n",
      "Epoch: 8/30, Step: 8000, D Loss: 0.6533892154693604, G Loss: 1.7906147241592407\n",
      "Epoch: 9/30, Step: 8500, D Loss: 0.2568785548210144, G Loss: 2.1740102767944336\n",
      "Epoch: 9/30, Step: 9000, D Loss: 0.45188480615615845, G Loss: 1.866640329360962\n",
      "Epoch: 10/30, Step: 9500, D Loss: 0.3194931447505951, G Loss: 1.7600427865982056\n",
      "Epoch: 10/30, Step: 10000, D Loss: 0.5581725239753723, G Loss: 2.1016454696655273\n",
      "Epoch: 11/30, Step: 10500, D Loss: 0.35416218638420105, G Loss: 2.4358558654785156\n",
      "Epoch: 11/30, Step: 11000, D Loss: 0.44659504294395447, G Loss: 1.803159475326538\n",
      "Epoch: 12/30, Step: 11500, D Loss: 0.368685245513916, G Loss: 3.1171088218688965\n",
      "Epoch: 12/30, Step: 12000, D Loss: 0.2865059971809387, G Loss: 1.6171672344207764\n",
      "Epoch: 13/30, Step: 12500, D Loss: 0.5770776271820068, G Loss: 1.3813045024871826\n",
      "Epoch: 13/30, Step: 13000, D Loss: 0.503258466720581, G Loss: 3.088622570037842\n",
      "Epoch: 14/30, Step: 13500, D Loss: 0.3149162232875824, G Loss: 2.2010059356689453\n",
      "Epoch: 14/30, Step: 14000, D Loss: 0.5541285276412964, G Loss: 2.093771457672119\n",
      "Epoch: 15/30, Step: 14500, D Loss: 0.41772717237472534, G Loss: 2.5844826698303223\n",
      "Epoch: 16/30, Step: 15000, D Loss: 0.38224175572395325, G Loss: 1.7165570259094238\n",
      "Epoch: 16/30, Step: 15500, D Loss: 0.38481268286705017, G Loss: 2.179786205291748\n",
      "Epoch: 17/30, Step: 16000, D Loss: 0.2670775055885315, G Loss: 2.555079698562622\n",
      "Epoch: 17/30, Step: 16500, D Loss: 0.4881252348423004, G Loss: 0.6407601237297058\n",
      "Epoch: 18/30, Step: 17000, D Loss: 0.44740352034568787, G Loss: 1.8447380065917969\n",
      "Epoch: 18/30, Step: 17500, D Loss: 0.32545846700668335, G Loss: 1.244987964630127\n",
      "Epoch: 19/30, Step: 18000, D Loss: 0.3907506465911865, G Loss: 2.2971487045288086\n",
      "Epoch: 19/30, Step: 18500, D Loss: 0.4499781131744385, G Loss: 2.0843355655670166\n",
      "Epoch: 20/30, Step: 19000, D Loss: 0.3507501482963562, G Loss: 1.8766827583312988\n",
      "Epoch: 20/30, Step: 19500, D Loss: 0.41672438383102417, G Loss: 2.4048855304718018\n",
      "Epoch: 21/30, Step: 20000, D Loss: 0.31802812218666077, G Loss: 2.2574410438537598\n",
      "Epoch: 21/30, Step: 20500, D Loss: 0.3652912676334381, G Loss: 1.845369577407837\n",
      "Epoch: 22/30, Step: 21000, D Loss: 0.4425152540206909, G Loss: 2.848350763320923\n",
      "Epoch: 22/30, Step: 21500, D Loss: 0.40185287594795227, G Loss: 3.0943799018859863\n",
      "Epoch: 23/30, Step: 22000, D Loss: 0.3489686846733093, G Loss: 2.381059169769287\n",
      "Epoch: 24/30, Step: 22500, D Loss: 0.4847504198551178, G Loss: 1.7365357875823975\n",
      "Epoch: 24/30, Step: 23000, D Loss: 0.4196416735649109, G Loss: 2.341548442840576\n",
      "Epoch: 25/30, Step: 23500, D Loss: 0.3331816494464874, G Loss: 1.4263110160827637\n",
      "Epoch: 25/30, Step: 24000, D Loss: 0.5935764908790588, G Loss: 2.4271726608276367\n",
      "Epoch: 26/30, Step: 24500, D Loss: 0.3213740885257721, G Loss: 2.7648630142211914\n",
      "Epoch: 26/30, Step: 25000, D Loss: 0.6007185578346252, G Loss: 2.2156314849853516\n",
      "Epoch: 27/30, Step: 25500, D Loss: 0.3478204011917114, G Loss: 1.6239631175994873\n",
      "Epoch: 27/30, Step: 26000, D Loss: 0.35690590739250183, G Loss: 2.510906457901001\n",
      "Epoch: 28/30, Step: 26500, D Loss: 0.3491174876689911, G Loss: 2.117020845413208\n",
      "Epoch: 28/30, Step: 27000, D Loss: 0.40436598658561707, G Loss: 2.0063576698303223\n",
      "Epoch: 29/30, Step: 27500, D Loss: 0.4856051802635193, G Loss: 2.291684627532959\n",
      "Epoch: 29/30, Step: 28000, D Loss: 0.2775539457798004, G Loss: 1.694042682647705\n"
     ]
    }
   ],
   "source": [
    "for epoch in range(max_epoch):\n",
    "    for idx, (images, labels) in enumerate(data_loader):\n",
    "        # Training Discriminator\n",
    "        x = images.to(DEVICE)\n",
    "        x_outputs = D(x)\n",
    "        D_x_loss = criterion(x_outputs, D_labels)\n",
    "\n",
    "        z = torch.randn(batch_size, n_noise).to(DEVICE)\n",
    "        z_outputs = D(G(z))\n",
    "        D_z_loss = criterion(z_outputs, D_fakes)\n",
    "        D_loss = D_x_loss + D_z_loss\n",
    "        \n",
    "        D.zero_grad()\n",
    "        D_loss.backward()\n",
    "        D_opt.step()\n",
    "\n",
    "        if step % n_critic == 0:\n",
    "            # Training Generator\n",
    "            z = torch.randn(batch_size, n_noise).to(DEVICE)\n",
    "            z_outputs = D(G(z))\n",
    "            G_loss = criterion(z_outputs, D_labels)\n",
    "\n",
    "            D.zero_grad()\n",
    "            G.zero_grad()\n",
    "            G_loss.backward()\n",
    "            G_opt.step()\n",
    "        \n",
    "        if step % 500 == 0:\n",
    "            print('Epoch: {}/{}, Step: {}, D Loss: {}, G Loss: {}'.format(epoch, max_epoch, step, D_loss.item(), G_loss.item()))\n",
    "        \n",
    "        if step % 1000 == 0:\n",
    "            G.eval()\n",
    "            img = get_sample_image(G, n_noise)\n",
    "            imsave('samples/{}_step{}.jpg'.format(MODEL_NAME, str(step).zfill(3)), img, cmap='gray')\n",
    "            G.train()\n",
    "        step += 1"
   ]
  },
  {
   "cell_type": "code",
   "execution_count": null,
   "metadata": {
    "collapsed": true
   },
   "outputs": [],
   "source": []
  },
  {
   "cell_type": "markdown",
   "metadata": {},
   "source": [
    "## Sample"
   ]
  },
  {
   "cell_type": "code",
   "execution_count": 18,
   "metadata": {},
   "outputs": [
    {
     "data": {
      "text/plain": [
       "<matplotlib.image.AxesImage at 0x1e152e82630>"
      ]
     },
     "execution_count": 18,
     "metadata": {},
     "output_type": "execute_result"
    },
    {
     "data": {
      "image/png": "[encoded data removed]",
      "text/plain": [
       "<matplotlib.figure.Figure at 0x1e153194128>"
      ]
     },
     "metadata": {},
     "output_type": "display_data"
    }
   ],
   "source": [
    "# generation to image\n",
    "G.eval()\n",
    "imshow(get_sample_image(G, n_noise), cmap='gray')"
   ]
  },
  {
   "cell_type": "code",
   "execution_count": null,
   "metadata": {
    "collapsed": true
   },
   "outputs": [],
   "source": []
  },
  {
   "cell_type": "code",
   "execution_count": 15,
   "metadata": {
    "collapsed": true
   },
   "outputs": [],
   "source": [
    "def save_checkpoint(state, file_name='checkpoint.pth.tar'):\n",
    "    torch.save(state, file_name)"
   ]
  },
  {
   "cell_type": "code",
   "execution_count": 16,
   "metadata": {
    "collapsed": true
   },
   "outputs": [],
   "source": [
    "# Saving params.\n",
    "# torch.save(D.state_dict(), 'D_c.pkl')\n",
    "# torch.save(G.state_dict(), 'G_c.pkl')\n",
    "save_checkpoint({'epoch': epoch + 1, 'state_dict':D.state_dict(), 'optimizer' : D_opt.state_dict()}, 'D_dc.pth.tar')\n",
    "save_checkpoint({'epoch': epoch + 1, 'state_dict':G.state_dict(), 'optimizer' : G_opt.state_dict()}, 'G_dc.pth.tar')"
   ]
  },
  {
   "cell_type": "code",
   "execution_count": null,
   "metadata": {
    "collapsed": true
   },
   "outputs": [],
   "source": []
  }
 ],
 "metadata": {
  "kernelspec": {
   "display_name": "Python 3",
   "language": "python",
   "name": "python3"
  },
  "language_info": {
   "codemirror_mode": {
    "name": "ipython",
    "version": 3
   },
   "file_extension": ".py",
   "mimetype": "text/x-python",
   "name": "python",
   "nbconvert_exporter": "python",
   "pygments_lexer": "ipython3",
   "version": "3.6.3"
  }
 },
 "nbformat": 4,
 "nbformat_minor": 2
}
