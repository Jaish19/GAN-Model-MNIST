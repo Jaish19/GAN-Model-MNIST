{
 "cells": [
  {
   "cell_type": "markdown",
   "metadata": {},
   "source": [
    "# Implementation of WGAN-GP\n",
    "Reference: https://arxiv.org/pdf/1704.00028.pdf\n"
   ]
  },
  {
   "cell_type": "code",
   "execution_count": null,
   "metadata": {
    "collapsed": true
   },
   "outputs": [],
   "source": [
    "# Run the comment below only when using Google Colab\n",
    "# !pip install torch torchvision"
   ]
  },
  {
   "cell_type": "code",
   "execution_count": 1,
   "metadata": {
    "collapsed": true
   },
   "outputs": [],
   "source": [
    "import torch\n",
    "import torchvision\n",
    "import torch.nn as nn\n",
    "import torch.nn.functional as F\n",
    "import torch.autograd as autograd"
   ]
  },
  {
   "cell_type": "code",
   "execution_count": 2,
   "metadata": {
    "collapsed": true
   },
   "outputs": [],
   "source": [
    "from torch.utils.data import DataLoader\n",
    "from torchvision import datasets\n",
    "from torchvision import transforms\n",
    "from torchvision.utils import save_image"
   ]
  },
  {
   "cell_type": "code",
   "execution_count": 3,
   "metadata": {
    "collapsed": true
   },
   "outputs": [],
   "source": [
    "import numpy as np\n",
    "import datetime\n",
    "import os, sys"
   ]
  },
  {
   "cell_type": "code",
   "execution_count": 4,
   "metadata": {
    "collapsed": true
   },
   "outputs": [],
   "source": [
    "from matplotlib.pyplot import imshow, imsave\n",
    "%matplotlib inline"
   ]
  },
  {
   "cell_type": "code",
   "execution_count": 5,
   "metadata": {
    "collapsed": true
   },
   "outputs": [],
   "source": [
    "MODEL_NAME = 'WGAN-gp'\n",
    "DEVICE = torch.device(\"cuda:0\" if torch.cuda.is_available() else \"cpu\")"
   ]
  },
  {
   "cell_type": "code",
   "execution_count": 6,
   "metadata": {
    "collapsed": true
   },
   "outputs": [],
   "source": [
    "def to_onehot(x, num_classes=10):\n",
    "    assert isinstance(x, int) or isinstance(x, (torch.LongTensor, torch.cuda.LongTensor))\n",
    "    if isinstance(x, int):\n",
    "        c = torch.zeros(1, num_classes).long()\n",
    "        c[0][x] = 1\n",
    "    else:\n",
    "        x = x.cpu()\n",
    "        c = torch.LongTensor(x.size(0), num_classes)\n",
    "        c.zero_()\n",
    "        c.scatter_(1, x, 1) # dim, index, src value\n",
    "    return c"
   ]
  },
  {
   "cell_type": "code",
   "execution_count": 7,
   "metadata": {
    "collapsed": true
   },
   "outputs": [],
   "source": [
    "def get_sample_image(G, n_noise=100):\n",
    "    \"\"\"\n",
    "        save sample 100 images\n",
    "    \"\"\"\n",
    "    img = np.zeros([280, 280])\n",
    "    for j in range(10):\n",
    "        c = torch.zeros([10, 10]).to(DEVICE)\n",
    "        c[:, j] = 1\n",
    "        z = torch.randn(10, n_noise).to(DEVICE)\n",
    "        y_hat = G(z,c).view(10, 28, 28)\n",
    "        result = y_hat.cpu().data.numpy()\n",
    "        img[j*28:(j+1)*28] = np.concatenate([x for x in result], axis=-1)\n",
    "    return img"
   ]
  },
  {
   "cell_type": "code",
   "execution_count": 8,
   "metadata": {
    "collapsed": true
   },
   "outputs": [],
   "source": [
    "class Discriminator(nn.Module):\n",
    "    \"\"\"\n",
    "        Convolutional Discriminator for MNIST\n",
    "    \"\"\"\n",
    "    def __init__(self, in_channel=1, input_size=784, condition_size=10, num_classes=1):\n",
    "        super(Discriminator, self).__init__()\n",
    "        self.transform = nn.Sequential(\n",
    "            nn.Linear(input_size+condition_size, 784),\n",
    "            nn.LeakyReLU(0.2),\n",
    "        )\n",
    "        self.conv = nn.Sequential(\n",
    "            # 28 -> 14\n",
    "            nn.Conv2d(in_channel, 512, 3, stride=2, padding=1, bias=False),\n",
    "#             nn.BatchNorm2d(512),\n",
    "            nn.LeakyReLU(0.2),\n",
    "            # 14 -> 7\n",
    "            nn.Conv2d(512, 256, 3, stride=2, padding=1, bias=False),\n",
    "#             nn.BatchNorm2d(256),\n",
    "            nn.LeakyReLU(0.2),\n",
    "            # 7 -> 4\n",
    "            nn.Conv2d(256, 128, 3, stride=2, padding=1, bias=False),\n",
    "#             nn.BatchNorm2d(128),\n",
    "            nn.LeakyReLU(0.2),\n",
    "            nn.AvgPool2d(4),\n",
    "        )\n",
    "        self.fc = nn.Sequential(\n",
    "            # reshape input, 128 -> 1\n",
    "            nn.Linear(128, 1),\n",
    "        )\n",
    "    \n",
    "    def forward(self, x, c=None):\n",
    "        # x: (N, 1, 28, 28), c: (N, 10)\n",
    "        x, c = x.view(x.size(0), -1), c.float() # may not need\n",
    "        v = torch.cat((x, c), 1) # v: (N, 794)\n",
    "        y_ = self.transform(v) # (N, 784)\n",
    "        y_ = y_.view(y_.shape[0], 1, 28, 28) # (N, 1, 28, 28)\n",
    "        y_ = self.conv(y_)\n",
    "        y_ = y_.view(y_.size(0), -1)\n",
    "        y_ = self.fc(y_)\n",
    "        return y_"
   ]
  },
  {
   "cell_type": "code",
   "execution_count": 9,
   "metadata": {
    "collapsed": true
   },
   "outputs": [],
   "source": [
    "class Generator(nn.Module):\n",
    "    \"\"\"\n",
    "        Convolutional Generator for MNIST\n",
    "    \"\"\"\n",
    "    def __init__(self, input_size=100, condition_size=10):\n",
    "        super(Generator, self).__init__()\n",
    "        self.fc = nn.Sequential(\n",
    "            nn.Linear(input_size+condition_size, 4*4*512),\n",
    "            nn.ReLU(),\n",
    "        )\n",
    "        self.conv = nn.Sequential(\n",
    "            # input: 4 by 4, output: 7 by 7\n",
    "            nn.ConvTranspose2d(512, 256, 3, stride=2, padding=1, bias=False),\n",
    "#             nn.BatchNorm2d(256),\n",
    "            nn.ReLU(),\n",
    "            # input: 7 by 7, output: 14 by 14\n",
    "            nn.ConvTranspose2d(256, 128, 4, stride=2, padding=1, bias=False),\n",
    "#             nn.BatchNorm2d(128),\n",
    "            nn.ReLU(),\n",
    "            # input: 14 by 14, output: 28 by 28\n",
    "            nn.ConvTranspose2d(128, 1, 4, stride=2, padding=1, bias=False),\n",
    "            nn.Tanh(),\n",
    "        )\n",
    "        \n",
    "    def forward(self, x, c):\n",
    "        # x: (N, 100), c: (N, 10)\n",
    "        x, c = x.view(x.size(0), -1), c.float() # may not need\n",
    "        v = torch.cat((x, c), 1) # v: (N, 110)\n",
    "        y_ = self.fc(v)\n",
    "        y_ = y_.view(y_.size(0), 512, 4, 4)\n",
    "        y_ = self.conv(y_) # (N, 28, 28)\n",
    "        return y_"
   ]
  },
  {
   "cell_type": "code",
   "execution_count": 10,
   "metadata": {
    "collapsed": true
   },
   "outputs": [],
   "source": [
    "D = Discriminator().to(DEVICE)\n",
    "G = Generator().to(DEVICE)\n",
    "# D.load_state_dict('D_dc.pkl')\n",
    "# G.load_state_dict('G_dc.pkl')"
   ]
  },
  {
   "cell_type": "code",
   "execution_count": 11,
   "metadata": {
    "collapsed": true
   },
   "outputs": [],
   "source": [
    "transform = transforms.Compose([transforms.ToTensor(),\n",
    "                                transforms.Normalize(mean=[0.5],\n",
    "                                std=[0.5])]\n",
    ")"
   ]
  },
  {
   "cell_type": "code",
   "execution_count": 15,
   "metadata": {},
   "outputs": [],
   "source": [
    "mnist = datasets.MNIST(root='../data/', train=True, transform=transform, download=True)"
   ]
  },
  {
   "cell_type": "code",
   "execution_count": 16,
   "metadata": {
    "collapsed": true
   },
   "outputs": [],
   "source": [
    "batch_size = 64"
   ]
  },
  {
   "cell_type": "code",
   "execution_count": 17,
   "metadata": {
    "collapsed": true
   },
   "outputs": [],
   "source": [
    "data_loader = DataLoader(dataset=mnist, batch_size=batch_size, shuffle=True, drop_last=True, pin_memory=True)"
   ]
  },
  {
   "cell_type": "code",
   "execution_count": 18,
   "metadata": {
    "collapsed": true
   },
   "outputs": [],
   "source": [
    "D_opt = torch.optim.Adam(D.parameters(), lr=0.0001, betas=(0., 0.9))\n",
    "G_opt = torch.optim.Adam(G.parameters(), lr=0.0001, betas=(0., 0.9))"
   ]
  },
  {
   "cell_type": "code",
   "execution_count": 19,
   "metadata": {
    "collapsed": true
   },
   "outputs": [],
   "source": [
    "max_epoch = 50 # need more than 20 epochs for training generator\n",
    "step = 0\n",
    "n_noise = 100\n",
    "p_coeff = 10 # lambda\n",
    "n_critic = 5"
   ]
  },
  {
   "cell_type": "code",
   "execution_count": 20,
   "metadata": {
    "collapsed": true
   },
   "outputs": [],
   "source": [
    "D_labels = torch.ones([batch_size, 1]).to(DEVICE) # Discriminator Label to real\n",
    "D_fakes = torch.zeros([batch_size, 1]).to(DEVICE) # Discriminator Label to fake"
   ]
  },
  {
   "cell_type": "code",
   "execution_count": 23,
   "metadata": {},
   "outputs": [],
   "source": [
    "if not os.path.exists('samples'):\n",
    "    os.makedirs('samples')"
   ]
  },
  {
   "cell_type": "code",
   "execution_count": 24,
   "metadata": {
    "scrolled": true
   },
   "outputs": [
    {
     "name": "stdout",
     "output_type": "stream",
     "text": [
      "Epoch: 0/50, Step: 0, D Loss: 9.836451530456543, G Loss: 0.04542214423418045\n",
      "Epoch: 0/50, Step: 500, D Loss: -17.222110748291016, G Loss: -2.790493965148926\n",
      "Epoch: 1/50, Step: 1000, D Loss: -14.437170028686523, G Loss: -4.63651704788208\n",
      "Epoch: 1/50, Step: 1500, D Loss: -12.898039817810059, G Loss: -5.126628875732422\n",
      "Epoch: 2/50, Step: 2000, D Loss: -9.202461242675781, G Loss: -7.752415657043457\n",
      "Epoch: 2/50, Step: 2500, D Loss: -3.2002816200256348, G Loss: -5.566987037658691\n",
      "Epoch: 3/50, Step: 3000, D Loss: -4.7195658683776855, G Loss: 0.524418830871582\n",
      "Epoch: 3/50, Step: 3500, D Loss: -5.08551025390625, G Loss: -1.7403905391693115\n",
      "Epoch: 4/50, Step: 4000, D Loss: -5.654188632965088, G Loss: 3.4006834030151367\n",
      "Epoch: 4/50, Step: 4500, D Loss: -6.172457695007324, G Loss: 2.4051449298858643\n",
      "Epoch: 5/50, Step: 5000, D Loss: -5.57381534576416, G Loss: -0.9589190483093262\n",
      "Epoch: 5/50, Step: 5500, D Loss: -5.090154647827148, G Loss: -5.0453643798828125\n",
      "Epoch: 6/50, Step: 6000, D Loss: -4.748830318450928, G Loss: -5.255766868591309\n",
      "Epoch: 6/50, Step: 6500, D Loss: -4.954983711242676, G Loss: -9.1829833984375\n",
      "Epoch: 7/50, Step: 7000, D Loss: -4.017940998077393, G Loss: -8.38479232788086\n",
      "Epoch: 8/50, Step: 7500, D Loss: -3.8713948726654053, G Loss: -4.522911071777344\n",
      "Epoch: 8/50, Step: 8000, D Loss: -3.0255002975463867, G Loss: -4.620765209197998\n",
      "Epoch: 9/50, Step: 8500, D Loss: -3.824171781539917, G Loss: -7.278886318206787\n",
      "Epoch: 9/50, Step: 9000, D Loss: -3.646456241607666, G Loss: -8.577272415161133\n",
      "Epoch: 10/50, Step: 9500, D Loss: -3.914715051651001, G Loss: -9.193463325500488\n",
      "Epoch: 10/50, Step: 10000, D Loss: -3.803218364715576, G Loss: -5.4726362228393555\n",
      "Epoch: 11/50, Step: 10500, D Loss: -3.6799380779266357, G Loss: -4.990134239196777\n",
      "Epoch: 11/50, Step: 11000, D Loss: -2.8258650302886963, G Loss: -6.088724136352539\n",
      "Epoch: 12/50, Step: 11500, D Loss: -2.8404955863952637, G Loss: -7.741921901702881\n",
      "Epoch: 12/50, Step: 12000, D Loss: -3.439532518386841, G Loss: -0.2079107165336609\n",
      "Epoch: 13/50, Step: 12500, D Loss: -3.0759501457214355, G Loss: -3.8485212326049805\n",
      "Epoch: 13/50, Step: 13000, D Loss: -3.5211479663848877, G Loss: -0.39581355452537537\n",
      "Epoch: 14/50, Step: 13500, D Loss: -2.2264626026153564, G Loss: -3.4813623428344727\n",
      "Epoch: 14/50, Step: 14000, D Loss: -2.447448253631592, G Loss: -7.541576385498047\n",
      "Epoch: 15/50, Step: 14500, D Loss: -2.386113166809082, G Loss: -4.689811706542969\n",
      "Epoch: 16/50, Step: 15000, D Loss: -3.155534505844116, G Loss: -8.664085388183594\n",
      "Epoch: 16/50, Step: 15500, D Loss: -2.6224143505096436, G Loss: 1.3822267055511475\n",
      "Epoch: 17/50, Step: 16000, D Loss: -3.2686221599578857, G Loss: 1.1641881465911865\n",
      "Epoch: 17/50, Step: 16500, D Loss: -2.511488676071167, G Loss: -4.31569242477417\n",
      "Epoch: 18/50, Step: 17000, D Loss: -2.323664665222168, G Loss: -7.968682289123535\n",
      "Epoch: 18/50, Step: 17500, D Loss: -2.712233543395996, G Loss: -5.017420768737793\n",
      "Epoch: 19/50, Step: 18000, D Loss: -2.2265477180480957, G Loss: -0.6633352637290955\n",
      "Epoch: 19/50, Step: 18500, D Loss: -2.052786111831665, G Loss: -8.980762481689453\n",
      "Epoch: 20/50, Step: 19000, D Loss: -2.2822625637054443, G Loss: -8.371345520019531\n",
      "Epoch: 20/50, Step: 19500, D Loss: -2.0346739292144775, G Loss: -5.704438209533691\n",
      "Epoch: 21/50, Step: 20000, D Loss: -1.9425594806671143, G Loss: -6.158945083618164\n",
      "Epoch: 21/50, Step: 20500, D Loss: -1.8346604108810425, G Loss: -6.76129150390625\n",
      "Epoch: 22/50, Step: 21000, D Loss: -1.5838919878005981, G Loss: -3.837240219116211\n",
      "Epoch: 22/50, Step: 21500, D Loss: -1.8366979360580444, G Loss: -1.3829818964004517\n",
      "Epoch: 23/50, Step: 22000, D Loss: -1.7080156803131104, G Loss: -6.069168567657471\n",
      "Epoch: 24/50, Step: 22500, D Loss: -2.1007423400878906, G Loss: -9.287784576416016\n",
      "Epoch: 24/50, Step: 23000, D Loss: -1.733026385307312, G Loss: -4.758201599121094\n",
      "Epoch: 25/50, Step: 23500, D Loss: -2.122978925704956, G Loss: -3.854278564453125\n",
      "Epoch: 25/50, Step: 24000, D Loss: -1.2089732885360718, G Loss: -4.343635559082031\n",
      "Epoch: 26/50, Step: 24500, D Loss: -1.7029880285263062, G Loss: -4.700730323791504\n",
      "Epoch: 26/50, Step: 25000, D Loss: -1.159062385559082, G Loss: -8.807985305786133\n",
      "Epoch: 27/50, Step: 25500, D Loss: -1.2818081378936768, G Loss: -5.57288122177124\n",
      "Epoch: 27/50, Step: 26000, D Loss: -1.1028286218643188, G Loss: -4.186102867126465\n",
      "Epoch: 28/50, Step: 26500, D Loss: -1.1051876544952393, G Loss: -0.958532452583313\n",
      "Epoch: 28/50, Step: 27000, D Loss: -1.4040178060531616, G Loss: -2.2421035766601562\n",
      "Epoch: 29/50, Step: 27500, D Loss: -1.3862742185592651, G Loss: -0.784112274646759\n",
      "Epoch: 29/50, Step: 28000, D Loss: -1.0255035161972046, G Loss: -6.899389266967773\n",
      "Epoch: 30/50, Step: 28500, D Loss: -1.1710888147354126, G Loss: -5.643136978149414\n",
      "Epoch: 30/50, Step: 29000, D Loss: -1.2006452083587646, G Loss: -2.9709839820861816\n",
      "Epoch: 31/50, Step: 29500, D Loss: -1.5284416675567627, G Loss: -4.902176856994629\n",
      "Epoch: 32/50, Step: 30000, D Loss: -0.8512096405029297, G Loss: -2.4139351844787598\n",
      "Epoch: 32/50, Step: 30500, D Loss: -1.0393633842468262, G Loss: -4.097910404205322\n",
      "Epoch: 33/50, Step: 31000, D Loss: -0.882887601852417, G Loss: 1.489929437637329\n",
      "Epoch: 33/50, Step: 31500, D Loss: -1.1883561611175537, G Loss: -3.380671739578247\n",
      "Epoch: 34/50, Step: 32000, D Loss: -1.1938151121139526, G Loss: 1.2561410665512085\n",
      "Epoch: 34/50, Step: 32500, D Loss: -1.3562498092651367, G Loss: -4.613578796386719\n",
      "Epoch: 35/50, Step: 33000, D Loss: -1.3277199268341064, G Loss: -0.5243163704872131\n",
      "Epoch: 35/50, Step: 33500, D Loss: -0.9779086709022522, G Loss: -4.448678016662598\n",
      "Epoch: 36/50, Step: 34000, D Loss: -0.8669332265853882, G Loss: -5.570426940917969\n",
      "Epoch: 36/50, Step: 34500, D Loss: -0.5758848190307617, G Loss: -2.786022424697876\n",
      "Epoch: 37/50, Step: 35000, D Loss: -0.9837555289268494, G Loss: -4.472448348999023\n",
      "Epoch: 37/50, Step: 35500, D Loss: -0.7650265097618103, G Loss: -5.31517219543457\n",
      "Epoch: 38/50, Step: 36000, D Loss: -1.2643911838531494, G Loss: -2.4497270584106445\n",
      "Epoch: 38/50, Step: 36500, D Loss: -1.1258745193481445, G Loss: -0.9633494019508362\n",
      "Epoch: 39/50, Step: 37000, D Loss: -0.6877334713935852, G Loss: -2.286830186843872\n",
      "Epoch: 40/50, Step: 37500, D Loss: -0.7125467658042908, G Loss: -2.928374767303467\n",
      "Epoch: 40/50, Step: 38000, D Loss: -1.084014892578125, G Loss: -3.0031416416168213\n",
      "Epoch: 41/50, Step: 38500, D Loss: -0.7037502527236938, G Loss: -1.9805595874786377\n",
      "Epoch: 41/50, Step: 39000, D Loss: -0.9223014712333679, G Loss: -3.971158504486084\n",
      "Epoch: 42/50, Step: 39500, D Loss: -0.5026755928993225, G Loss: -5.555987358093262\n",
      "Epoch: 42/50, Step: 40000, D Loss: -1.1474589109420776, G Loss: -5.670648574829102\n",
      "Epoch: 43/50, Step: 40500, D Loss: -0.7383836507797241, G Loss: -4.194655418395996\n",
      "Epoch: 43/50, Step: 41000, D Loss: -1.1405528783798218, G Loss: -5.927704334259033\n",
      "Epoch: 44/50, Step: 41500, D Loss: -0.807501494884491, G Loss: -3.6915783882141113\n",
      "Epoch: 44/50, Step: 42000, D Loss: -0.8019829392433167, G Loss: -3.4908132553100586\n",
      "Epoch: 45/50, Step: 42500, D Loss: -1.225110411643982, G Loss: -2.437776565551758\n",
      "Epoch: 45/50, Step: 43000, D Loss: -0.9028505682945251, G Loss: -6.611172199249268\n",
      "Epoch: 46/50, Step: 43500, D Loss: -0.925484836101532, G Loss: -3.2142438888549805\n",
      "Epoch: 46/50, Step: 44000, D Loss: -0.7895946502685547, G Loss: -2.345815420150757\n",
      "Epoch: 47/50, Step: 44500, D Loss: -0.720172107219696, G Loss: -5.039434432983398\n",
      "Epoch: 48/50, Step: 45000, D Loss: -0.6154714822769165, G Loss: -4.469676971435547\n",
      "Epoch: 48/50, Step: 45500, D Loss: -1.1894901990890503, G Loss: -3.4630775451660156\n",
      "Epoch: 49/50, Step: 46000, D Loss: -0.657228946685791, G Loss: -4.286595344543457\n",
      "Epoch: 49/50, Step: 46500, D Loss: -1.0294578075408936, G Loss: -2.8286654949188232\n"
     ]
    }
   ],
   "source": [
    "for epoch in range(max_epoch):\n",
    "    for idx, (images, labels) in enumerate(data_loader):\n",
    "        D.zero_grad()\n",
    "        ## Training Discriminator\n",
    "        # Real data\n",
    "        x = images.to(DEVICE)\n",
    "        y = labels.view(batch_size, 1)\n",
    "        y = to_onehot(y).to(DEVICE)\n",
    "        \n",
    "        # Sampling\n",
    "        z = torch.randn(batch_size, n_noise).to(DEVICE)\n",
    "        x_fake = G(z, y)\n",
    "                \n",
    "        # Gradient Penalty (e.g. gradients w.r.t x_penalty)\n",
    "        eps = torch.rand(batch_size, 1, 1, 1).to(DEVICE) # x shape: (64, 1, 28, 28)\n",
    "        x_penalty = eps*x + (1-eps)*x_fake\n",
    "        x_penalty = x_penalty.view(x_penalty.size(0), -1)\n",
    "        p_outputs = D(x_penalty, y)\n",
    "        xp_grad = autograd.grad(outputs=p_outputs, inputs=x_penalty, grad_outputs=D_labels,\n",
    "                                create_graph=True, retain_graph=True, only_inputs=True)\n",
    "        grad_penalty = p_coeff * torch.mean(torch.pow(torch.norm(xp_grad[0], 2, 1) - 1, 2))\n",
    "        \n",
    "        # Wasserstein loss\n",
    "        x_outputs = D(x, y)\n",
    "        z_outputs = D(x_fake, y)\n",
    "        D_x_loss = torch.mean(x_outputs)\n",
    "        D_z_loss = torch.mean(z_outputs)\n",
    "        D_loss = D_z_loss - D_x_loss + grad_penalty\n",
    "        \n",
    "        D_loss.backward()\n",
    "        D_opt.step()        \n",
    "        if step % n_critic == 0:\n",
    "            D.zero_grad()\n",
    "            G.zero_grad()\n",
    "            # Training Generator\n",
    "            z = torch.randn(batch_size, n_noise).to(DEVICE)\n",
    "            z_outputs = D(G(z, y), y)\n",
    "            G_loss = -torch.mean(z_outputs)\n",
    "\n",
    "            G_loss.backward()\n",
    "            G_opt.step()\n",
    "        \n",
    "        if step % 500 == 0:\n",
    "            print('Epoch: {}/{}, Step: {}, D Loss: {}, G Loss: {}'.format(epoch, max_epoch, step, D_loss.item(), G_loss.item()))\n",
    "        \n",
    "        if step % 1000 == 0:\n",
    "            G.eval()\n",
    "            img = get_sample_image(G, n_noise)\n",
    "            imsave('samples/{}_step{:05d}.jpg'.format(MODEL_NAME, step), img, cmap='gray')\n",
    "            G.train()\n",
    "        step += 1"
   ]
  },
  {
   "cell_type": "code",
   "execution_count": null,
   "metadata": {
    "collapsed": true
   },
   "outputs": [],
   "source": []
  },
  {
   "cell_type": "markdown",
   "metadata": {},
   "source": [
    "## Sample"
   ]
  },
  {
   "cell_type": "code",
   "execution_count": 29,
   "metadata": {},
   "outputs": [
    {
     "data": {
      "text/plain": [
       "<matplotlib.image.AxesImage at 0x7f23f053c0f0>"
      ]
     },
     "execution_count": 29,
     "metadata": {},
     "output_type": "execute_result"
    },
    {
     "data": {
      "image/png": "[encoded data removed]",
      "text/plain": [
       "<matplotlib.figure.Figure at 0x7f23f0638588>"
      ]
     },
     "metadata": {},
     "output_type": "display_data"
    }
   ],
   "source": [
    "# generation to image\n",
    "G.eval()\n",
    "imshow(get_sample_image(G, n_noise), cmap='gray')"
   ]
  },
  {
   "cell_type": "code",
   "execution_count": 15,
   "metadata": {
    "collapsed": true
   },
   "outputs": [],
   "source": [
    "def save_checkpoint(state, file_name='checkpoint.pth.tar'):\n",
    "    torch.save(state, file_name)"
   ]
  },
  {
   "cell_type": "code",
   "execution_count": 16,
   "metadata": {
    "collapsed": true
   },
   "outputs": [],
   "source": [
    "# Saving params.\n",
    "# torch.save(D.state_dict(), 'D_c.pkl')\n",
    "# torch.save(G.state_dict(), 'G_c.pkl')\n",
    "save_checkpoint({'epoch': epoch + 1, 'state_dict':D.state_dict(), 'optimizer' : D_opt.state_dict()}, 'D_gp.pth.tar')\n",
    "save_checkpoint({'epoch': epoch + 1, 'state_dict':G.state_dict(), 'optimizer' : G_opt.state_dict()}, 'G_gp.pth.tar')"
   ]
  },
  {
   "cell_type": "code",
   "execution_count": null,
   "metadata": {
    "collapsed": true
   },
   "outputs": [],
   "source": []
  }
 ],
 "metadata": {
  "kernelspec": {
   "display_name": "Python 3",
   "language": "python",
   "name": "python3"
  },
  "language_info": {
   "codemirror_mode": {
    "name": "ipython",
    "version": 3
   },
   "file_extension": ".py",
   "mimetype": "text/x-python",
   "name": "python",
   "nbconvert_exporter": "python",
   "pygments_lexer": "ipython3",
   "version": "3.6.3"
  }
 },
 "nbformat": 4,
 "nbformat_minor": 2
}
