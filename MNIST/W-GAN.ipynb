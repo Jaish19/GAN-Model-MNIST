{
 "cells": [
  {
   "cell_type": "markdown",
   "metadata": {},
   "source": [
    "# Implementation of Wasserstein GANs\n",
    "Reference: https://arxiv.org/pdf/1701.07875.pdf"
   ]
  },
  {
   "cell_type": "code",
   "execution_count": null,
   "metadata": {
    "collapsed": true
   },
   "outputs": [],
   "source": [
    "# Run the comment below only when using Google Colab\n",
    "# !pip install torch torchvision"
   ]
  },
  {
   "cell_type": "code",
   "execution_count": 1,
   "metadata": {
    "collapsed": true
   },
   "outputs": [],
   "source": [
    "import torch\n",
    "import torchvision\n",
    "import torch.nn as nn\n",
    "import torch.nn.functional as F"
   ]
  },
  {
   "cell_type": "code",
   "execution_count": 2,
   "metadata": {
    "collapsed": true
   },
   "outputs": [],
   "source": [
    "from torch.utils.data import DataLoader\n",
    "from torchvision import datasets\n",
    "from torchvision import transforms\n",
    "from torchvision.utils import save_image"
   ]
  },
  {
   "cell_type": "code",
   "execution_count": 3,
   "metadata": {
    "collapsed": true
   },
   "outputs": [],
   "source": [
    "import numpy as np\n",
    "import datetime\n",
    "import os, sys"
   ]
  },
  {
   "cell_type": "code",
   "execution_count": 4,
   "metadata": {
    "collapsed": true
   },
   "outputs": [],
   "source": [
    "from matplotlib.pyplot import imshow, imsave\n",
    "%matplotlib inline"
   ]
  },
  {
   "cell_type": "code",
   "execution_count": 5,
   "metadata": {
    "collapsed": true
   },
   "outputs": [],
   "source": [
    "MODEL_NAME = 'W-GAN'\n",
    "DEVICE = torch.device(\"cuda:0\" if torch.cuda.is_available() else \"cpu\")"
   ]
  },
  {
   "cell_type": "code",
   "execution_count": 6,
   "metadata": {
    "collapsed": true
   },
   "outputs": [],
   "source": [
    "def to_onehot(x, num_classes=10):\n",
    "    assert isinstance(x, int) or isinstance(x, (torch.LongTensor, torch.cuda.LongTensor))\n",
    "    if isinstance(x, int):\n",
    "        c = torch.zeros(1, num_classes).long()\n",
    "        c[0][x] = 1\n",
    "    else:\n",
    "        x = x.cpu()\n",
    "        c = torch.LongTensor(x.size(0), num_classes)\n",
    "        c.zero_()\n",
    "        c.scatter_(1, x, 1) # dim, index, src value\n",
    "    return c"
   ]
  },
  {
   "cell_type": "code",
   "execution_count": 7,
   "metadata": {
    "collapsed": true
   },
   "outputs": [],
   "source": [
    "def get_sample_image(G, n_noise=100):\n",
    "    \"\"\"\n",
    "        save sample 100 images\n",
    "    \"\"\"\n",
    "    img = np.zeros([280, 280])\n",
    "    for j in range(10):\n",
    "        c = torch.zeros([10, 10]).to(DEVICE)\n",
    "        c[:, j] = 1\n",
    "        z = torch.randn(10, n_noise).to(DEVICE)\n",
    "        y_hat = G(z,c).view(10, 28, 28)\n",
    "        result = y_hat.cpu().data.numpy()\n",
    "        img[j*28:(j+1)*28] = np.concatenate([x for x in result], axis=-1)\n",
    "    return img"
   ]
  },
  {
   "cell_type": "code",
   "execution_count": 8,
   "metadata": {
    "collapsed": true
   },
   "outputs": [],
   "source": [
    "class Discriminator(nn.Module):\n",
    "    \"\"\"\n",
    "        Convolutional Discriminator for MNIST\n",
    "    \"\"\"\n",
    "    def __init__(self, in_channel=1, input_size=784, condition_size=10, num_classes=1):\n",
    "        super(Discriminator, self).__init__()\n",
    "        self.transform = nn.Sequential(\n",
    "            nn.Linear(input_size+condition_size, 784),\n",
    "            nn.LeakyReLU(0.2),\n",
    "        )\n",
    "        self.conv = nn.Sequential(\n",
    "            # 28 -> 14\n",
    "            nn.Conv2d(in_channel, 512, 3, stride=2, padding=1, bias=False),\n",
    "            nn.BatchNorm2d(512),\n",
    "            nn.LeakyReLU(0.2),\n",
    "            # 14 -> 7\n",
    "            nn.Conv2d(512, 256, 3, stride=2, padding=1, bias=False),\n",
    "            nn.BatchNorm2d(256),\n",
    "            nn.LeakyReLU(0.2),\n",
    "            # 7 -> 4\n",
    "            nn.Conv2d(256, 128, 3, stride=2, padding=1, bias=False),\n",
    "            nn.BatchNorm2d(128),\n",
    "            nn.LeakyReLU(0.2),\n",
    "            nn.AvgPool2d(4),\n",
    "        )\n",
    "        self.fc = nn.Sequential(\n",
    "            # reshape input, 128 -> 1\n",
    "            nn.Linear(128, 1),\n",
    "        )\n",
    "    \n",
    "    def forward(self, x, c=None):\n",
    "        # x: (N, 1, 28, 28), c: (N, 10)\n",
    "        x, c = x.view(x.size(0), -1), c.float() # may not need\n",
    "        v = torch.cat((x, c), 1) # v: (N, 794)\n",
    "        y_ = self.transform(v) # (N, 784)\n",
    "        y_ = y_.view(y_.shape[0], 1, 28, 28) # (N, 1, 28, 28)\n",
    "        y_ = self.conv(y_)\n",
    "        y_ = y_.view(y_.size(0), -1)\n",
    "        y_ = self.fc(y_)\n",
    "        return y_"
   ]
  },
  {
   "cell_type": "code",
   "execution_count": 9,
   "metadata": {
    "collapsed": true
   },
   "outputs": [],
   "source": [
    "class Generator(nn.Module):\n",
    "    \"\"\"\n",
    "        Convolutional Generator for MNIST\n",
    "    \"\"\"\n",
    "    def __init__(self, input_size=100, condition_size=10):\n",
    "        super(Generator, self).__init__()\n",
    "        self.fc = nn.Sequential(\n",
    "            nn.Linear(input_size+condition_size, 4*4*512),\n",
    "            nn.ReLU(),\n",
    "        )\n",
    "        self.conv = nn.Sequential(\n",
    "            # input: 4 by 4, output: 7 by 7\n",
    "            nn.ConvTranspose2d(512, 256, 3, stride=2, padding=1, bias=False),\n",
    "            nn.BatchNorm2d(256),\n",
    "            nn.ReLU(),\n",
    "            # input: 7 by 7, output: 14 by 14\n",
    "            nn.ConvTranspose2d(256, 128, 4, stride=2, padding=1, bias=False),\n",
    "            nn.BatchNorm2d(128),\n",
    "            nn.ReLU(),\n",
    "            # input: 14 by 14, output: 28 by 28\n",
    "            nn.ConvTranspose2d(128, 1, 4, stride=2, padding=1, bias=False),\n",
    "            nn.Tanh(),\n",
    "        )\n",
    "        \n",
    "    def forward(self, x, c):\n",
    "        # x: (N, 100), c: (N, 10)\n",
    "        x, c = x.view(x.size(0), -1), c.float() # may not need\n",
    "        v = torch.cat((x, c), 1) # v: (N, 110)\n",
    "        y_ = self.fc(v)\n",
    "        y_ = y_.view(y_.size(0), 512, 4, 4)\n",
    "        y_ = self.conv(y_) # (N, 28, 28)\n",
    "        return y_"
   ]
  },
  {
   "cell_type": "code",
   "execution_count": 10,
   "metadata": {
    "collapsed": true
   },
   "outputs": [],
   "source": [
    "D = Discriminator().to(DEVICE)\n",
    "G = Generator().to(DEVICE)\n",
    "# D.load_state_dict('D_dc.pkl')\n",
    "# G.load_state_dict('G_dc.pkl')"
   ]
  },
  {
   "cell_type": "code",
   "execution_count": 11,
   "metadata": {
    "collapsed": true
   },
   "outputs": [],
   "source": [
    "transform = transforms.Compose([transforms.ToTensor(),\n",
    "                                transforms.Normalize(mean=[0.5],\n",
    "                                std=[0.5])]\n",
    ")"
   ]
  },
  {
   "cell_type": "code",
   "execution_count": 12,
   "metadata": {
    "collapsed": true
   },
   "outputs": [],
   "source": [
    "mnist = datasets.MNIST(root='../data/', train=True, transform=transform, download=True)"
   ]
  },
  {
   "cell_type": "code",
   "execution_count": 13,
   "metadata": {
    "collapsed": true
   },
   "outputs": [],
   "source": [
    "batch_size = 64"
   ]
  },
  {
   "cell_type": "code",
   "execution_count": 14,
   "metadata": {
    "collapsed": true
   },
   "outputs": [],
   "source": [
    "data_loader = DataLoader(dataset=mnist, batch_size=batch_size, shuffle=True, drop_last=True, pin_memory=True)"
   ]
  },
  {
   "cell_type": "code",
   "execution_count": 15,
   "metadata": {
    "collapsed": true
   },
   "outputs": [],
   "source": [
    "D_opt = torch.optim.RMSprop(D.parameters(), lr=0.0005)\n",
    "G_opt = torch.optim.RMSprop(G.parameters(), lr=0.0005)"
   ]
  },
  {
   "cell_type": "code",
   "execution_count": 16,
   "metadata": {
    "collapsed": true
   },
   "outputs": [],
   "source": [
    "max_epoch = 30 # need more than 100 epochs for training generator\n",
    "step = 0\n",
    "g_step = 0\n",
    "n_noise = 100"
   ]
  },
  {
   "cell_type": "code",
   "execution_count": 17,
   "metadata": {
    "collapsed": true
   },
   "outputs": [],
   "source": [
    "def n_critic(step, nc=2):\n",
    "    if step < 25 or step % 500 == 0:\n",
    "        return 100\n",
    "    return nc"
   ]
  },
  {
   "cell_type": "code",
   "execution_count": 18,
   "metadata": {
    "collapsed": true
   },
   "outputs": [],
   "source": [
    "D_labels = torch.ones([batch_size, 1]).to(DEVICE) # Discriminator Label to real\n",
    "D_fakes = torch.zeros([batch_size, 1]).to(DEVICE) # Discriminator Label to fake"
   ]
  },
  {
   "cell_type": "code",
   "execution_count": 19,
   "metadata": {
    "scrolled": true
   },
   "outputs": [
    {
     "name": "stdout",
     "output_type": "stream",
     "text": [
      "Epoch: 0/30, Step: 0, D Loss: 0.004117418080568314, G Loss: -0.008988008834421635\n",
      "Epoch: 0/30, Step: 500, D Loss: -1.599825918674469e-05, G Loss: -0.008754456415772438\n",
      "Epoch: 1/30, Step: 1000, D Loss: -2.3813918232917786e-05, G Loss: -0.009472677484154701\n",
      "Epoch: 1/30, Step: 1500, D Loss: -8.712522685527802e-06, G Loss: -0.00866131205111742\n",
      "Epoch: 2/30, Step: 2000, D Loss: -6.854534149169922e-07, G Loss: -0.009275324642658234\n",
      "Epoch: 2/30, Step: 2500, D Loss: -9.033828973770142e-08, G Loss: -0.008892761543393135\n",
      "Epoch: 3/30, Step: 3000, D Loss: 7.171183824539185e-08, G Loss: -0.008833834901452065\n",
      "Epoch: 3/30, Step: 3500, D Loss: 2.8870999813079834e-07, G Loss: -0.008951780386269093\n",
      "Epoch: 4/30, Step: 4000, D Loss: -2.980232238769531e-07, G Loss: -0.009025951847434044\n",
      "Epoch: 4/30, Step: 4500, D Loss: 1.862645149230957e-09, G Loss: -0.008728638291358948\n",
      "Epoch: 5/30, Step: 5000, D Loss: -9.313225746154785e-10, G Loss: -0.008916424587368965\n",
      "Epoch: 5/30, Step: 5500, D Loss: -9.313225746154785e-10, G Loss: -0.009103072807192802\n",
      "Epoch: 6/30, Step: 6000, D Loss: 0.0, G Loss: -0.009054867550730705\n",
      "Epoch: 6/30, Step: 6500, D Loss: 9.313225746154785e-10, G Loss: -0.009102742187678814\n",
      "Epoch: 7/30, Step: 7000, D Loss: 0.0, G Loss: -0.008931582793593407\n",
      "Epoch: 8/30, Step: 7500, D Loss: 0.0, G Loss: -0.00907458271831274\n",
      "Epoch: 8/30, Step: 8000, D Loss: 0.0, G Loss: -0.008940527215600014\n",
      "Epoch: 9/30, Step: 8500, D Loss: -9.313225746154785e-10, G Loss: -0.008939829654991627\n",
      "Epoch: 9/30, Step: 9000, D Loss: 9.313225746154785e-10, G Loss: -0.008988702669739723\n",
      "Epoch: 10/30, Step: 9500, D Loss: 9.313225746154785e-10, G Loss: -0.009093346074223518\n",
      "Epoch: 10/30, Step: 10000, D Loss: -9.313225746154785e-10, G Loss: -0.008917517960071564\n",
      "Epoch: 11/30, Step: 10500, D Loss: 0.0, G Loss: -0.008969239890575409\n",
      "Epoch: 11/30, Step: 11000, D Loss: 0.0, G Loss: -0.008875468745827675\n",
      "Epoch: 12/30, Step: 11500, D Loss: -9.313225746154785e-10, G Loss: -0.009069228544831276\n",
      "Epoch: 12/30, Step: 12000, D Loss: 0.0, G Loss: -0.009269727393984795\n",
      "Epoch: 13/30, Step: 12500, D Loss: 0.0, G Loss: -0.009338702075183392\n",
      "Epoch: 13/30, Step: 13000, D Loss: -9.313225746154785e-10, G Loss: -0.00925383623689413\n",
      "Epoch: 14/30, Step: 13500, D Loss: 0.0, G Loss: -0.00941171683371067\n",
      "Epoch: 14/30, Step: 14000, D Loss: 0.0, G Loss: -0.00920211523771286\n",
      "Epoch: 15/30, Step: 14500, D Loss: 0.0, G Loss: -0.00910292286425829\n",
      "Epoch: 16/30, Step: 15000, D Loss: 0.0, G Loss: -0.00914795882999897\n",
      "Epoch: 16/30, Step: 15500, D Loss: -9.313225746154785e-10, G Loss: -0.009230108000338078\n",
      "Epoch: 17/30, Step: 16000, D Loss: 0.0, G Loss: -0.009250262752175331\n",
      "Epoch: 17/30, Step: 16500, D Loss: 0.0, G Loss: -0.009281259030103683\n",
      "Epoch: 18/30, Step: 17000, D Loss: 0.0, G Loss: -0.00915216002613306\n",
      "Epoch: 18/30, Step: 17500, D Loss: 0.0, G Loss: -0.00909469835460186\n",
      "Epoch: 19/30, Step: 18000, D Loss: 0.0, G Loss: -0.009153008460998535\n",
      "Epoch: 19/30, Step: 18500, D Loss: 0.0, G Loss: -0.009008231572806835\n",
      "Epoch: 20/30, Step: 19000, D Loss: 9.313225746154785e-10, G Loss: -0.00904090516269207\n",
      "Epoch: 20/30, Step: 19500, D Loss: -9.313225746154785e-10, G Loss: -0.009028646163642406\n",
      "Epoch: 21/30, Step: 20000, D Loss: 0.0, G Loss: -0.009081948548555374\n",
      "Epoch: 21/30, Step: 20500, D Loss: 0.0, G Loss: -0.009116753935813904\n",
      "Epoch: 22/30, Step: 21000, D Loss: 0.0, G Loss: -0.00920315645635128\n",
      "Epoch: 22/30, Step: 21500, D Loss: -9.313225746154785e-10, G Loss: -0.009267526678740978\n",
      "Epoch: 23/30, Step: 22000, D Loss: 9.313225746154785e-10, G Loss: -0.009308744221925735\n",
      "Epoch: 24/30, Step: 22500, D Loss: 0.0, G Loss: -0.00923323817551136\n",
      "Epoch: 24/30, Step: 23000, D Loss: 0.0, G Loss: -0.009402524679899216\n",
      "Epoch: 25/30, Step: 23500, D Loss: -9.313225746154785e-10, G Loss: -0.009341285564005375\n",
      "Epoch: 25/30, Step: 24000, D Loss: 0.0, G Loss: -0.00936215091496706\n",
      "Epoch: 26/30, Step: 24500, D Loss: 0.0, G Loss: -0.009425638243556023\n",
      "Epoch: 26/30, Step: 25000, D Loss: 0.0, G Loss: -0.00926903635263443\n",
      "Epoch: 27/30, Step: 25500, D Loss: 0.0, G Loss: -0.009203221648931503\n",
      "Epoch: 27/30, Step: 26000, D Loss: -9.313225746154785e-10, G Loss: -0.00910208746790886\n",
      "Epoch: 28/30, Step: 26500, D Loss: 0.0, G Loss: -0.009030099026858807\n",
      "Epoch: 28/30, Step: 27000, D Loss: 0.0, G Loss: -0.008972253650426865\n",
      "Epoch: 29/30, Step: 27500, D Loss: 0.0, G Loss: -0.00896351970732212\n",
      "Epoch: 29/30, Step: 28000, D Loss: 9.313225746154785e-10, G Loss: -0.008853761479258537\n"
     ]
    }
   ],
   "source": [
    "for epoch in range(max_epoch):\n",
    "    for idx, (images, labels) in enumerate(data_loader):\n",
    "                   \n",
    "        # Training Discriminator\n",
    "        x = images.to(DEVICE)\n",
    "        y = labels.view(batch_size, 1)\n",
    "        y = to_onehot(y).to(DEVICE)\n",
    "        x_outputs = D(x, y)\n",
    "\n",
    "        z = torch.randn(batch_size, n_noise).to(DEVICE)\n",
    "        z_outputs = D(G(z, y), y)\n",
    "        D_x_loss = torch.mean(x_outputs)\n",
    "        D_z_loss = torch.mean(z_outputs)\n",
    "        D_loss = D_z_loss - D_x_loss\n",
    "        \n",
    "        D.zero_grad()\n",
    "        D_loss.backward()\n",
    "        D_opt.step()\n",
    "        # Parameter(Weight) Clipping for K-Lipshitz constraint\n",
    "        for p in D.parameters():\n",
    "            p.data.clamp_(-0.01, 0.01)\n",
    "                    \n",
    "        if step % 1 == 0:\n",
    "            g_step += 1\n",
    "            # Training Generator\n",
    "            z = torch.randn(batch_size, n_noise).to(DEVICE)\n",
    "            z_outputs = D(G(z, y), y)\n",
    "            G_loss = -torch.mean(z_outputs)\n",
    "\n",
    "            D.zero_grad()\n",
    "            G.zero_grad()\n",
    "            G_loss.backward()\n",
    "            G_opt.step()\n",
    "            \n",
    "        if step % 500 == 0:\n",
    "            print('Epoch: {}/{}, Step: {}, D Loss: {}, G Loss: {}'.format(epoch, max_epoch, step, D_loss.item(), G_loss.item()))\n",
    "        \n",
    "        if step % 1000 == 0:\n",
    "            G.eval()\n",
    "            img = get_sample_image(G, n_noise)\n",
    "            imsave('samples/{}_step{}.jpg'.format(MODEL_NAME, str(step).zfill(3)), img, cmap='gray')\n",
    "            G.train()\n",
    "        step += 1"
   ]
  },
  {
   "cell_type": "code",
   "execution_count": null,
   "metadata": {
    "collapsed": true
   },
   "outputs": [],
   "source": []
  },
  {
   "cell_type": "markdown",
   "metadata": {},
   "source": [
    "## Sample"
   ]
  },
  {
   "cell_type": "code",
   "execution_count": 20,
   "metadata": {},
   "outputs": [
    {
     "data": {
      "text/plain": [
       "<matplotlib.image.AxesImage at 0x1d4550dc8d0>"
      ]
     },
     "execution_count": 20,
     "metadata": {},
     "output_type": "execute_result"
    },
    {
     "data": {
      "image/png": "[encoded data removed]",
      "text/plain": [
       "<matplotlib.figure.Figure at 0x1d454d72b70>"
      ]
     },
     "metadata": {},
     "output_type": "display_data"
    }
   ],
   "source": [
    "# generation to image\n",
    "G.eval()\n",
    "imshow(get_sample_image(G, n_noise), cmap='gray')"
   ]
  },
  {
   "cell_type": "code",
   "execution_count": null,
   "metadata": {
    "collapsed": true
   },
   "outputs": [],
   "source": []
  },
  {
   "cell_type": "code",
   "execution_count": 15,
   "metadata": {
    "collapsed": true
   },
   "outputs": [],
   "source": [
    "def save_checkpoint(state, file_name='checkpoint.pth.tar'):\n",
    "    torch.save(state, file_name)"
   ]
  },
  {
   "cell_type": "code",
   "execution_count": 16,
   "metadata": {
    "collapsed": true
   },
   "outputs": [],
   "source": [
    "# Saving params.\n",
    "# torch.save(D.state_dict(), 'D_c.pkl')\n",
    "# torch.save(G.state_dict(), 'G_c.pkl')\n",
    "save_checkpoint({'epoch': epoch + 1, 'state_dict':D.state_dict(), 'optimizer' : D_opt.state_dict()}, 'D_w.pth.tar')\n",
    "save_checkpoint({'epoch': epoch + 1, 'state_dict':G.state_dict(), 'optimizer' : G_opt.state_dict()}, 'G_w.pth.tar')"
   ]
  },
  {
   "cell_type": "code",
   "execution_count": null,
   "metadata": {
    "collapsed": true
   },
   "outputs": [],
   "source": []
  }
 ],
 "metadata": {
  "kernelspec": {
   "display_name": "Python 3",
   "language": "python",
   "name": "python3"
  },
  "language_info": {
   "codemirror_mode": {
    "name": "ipython",
    "version": 3
   },
   "file_extension": ".py",
   "mimetype": "text/x-python",
   "name": "python",
   "nbconvert_exporter": "python",
   "pygments_lexer": "ipython3",
   "version": "3.6.3"
  }
 },
 "nbformat": 4,
 "nbformat_minor": 2
}
